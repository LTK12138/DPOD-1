{
 "cells": [
  {
   "cell_type": "code",
   "execution_count": 1,
   "metadata": {},
   "outputs": [],
   "source": [
    "import numpy as np\n",
    "import matplotlib.pyplot as plt"
   ]
  },
  {
   "cell_type": "code",
   "execution_count": 2,
   "metadata": {},
   "outputs": [],
   "source": [
    "camera_matrix = np.array([\n",
    "            [572.41140, 0, 325.26110],\n",
    "            [0, 573.57043, 242.04899],\n",
    "            [0, 0, 1]\n",
    "        ])"
   ]
  },
  {
   "cell_type": "code",
   "execution_count": null,
   "metadata": {},
   "outputs": [],
   "source": [
    "# from wikipedia\n",
    "# bool RayIntersectsTriangle(Vector3D rayOrigin, \n",
    "#                            Vector3D rayVector, \n",
    "#                            Triangle* inTriangle,\n",
    "#                            Vector3D& outIntersectionPoint)\n",
    "# {\n",
    "#     const float EPSILON = 0.0000001;\n",
    "#     Vector3D vertex0 = inTriangle->vertex0;\n",
    "#     Vector3D vertex1 = inTriangle->vertex1;  \n",
    "#     Vector3D vertex2 = inTriangle->vertex2;\n",
    "#     Vector3D edge1, edge2, h, s, q;\n",
    "#     float a,f,u,v;\n",
    "#     edge1 = vertex1 - vertex0;\n",
    "#     edge2 = vertex2 - vertex0;\n",
    "#     h = rayVector.crossProduct(edge2);\n",
    "#     a = edge1.dotProduct(h);\n",
    "#     if (a > -EPSILON && a < EPSILON)\n",
    "#         return false;    // This ray is parallel to this triangle.\n",
    "#     f = 1.0/a;\n",
    "#     s = rayOrigin - vertex0;\n",
    "#     u = f * s.dotProduct(h);\n",
    "#     if (u < 0.0 || u > 1.0)\n",
    "#         return false;\n",
    "#     q = s.crossProduct(edge1);\n",
    "#     v = f * rayVector.dotProduct(q);\n",
    "#     if (v < 0.0 || u + v > 1.0)\n",
    "#         return false;\n",
    "#     // At this stage we can compute t to find out where the intersection point is on the line.\n",
    "#     float t = f * edge2.dotProduct(q);\n",
    "#     if (t > EPSILON) // ray intersection\n",
    "#     {\n",
    "#         outIntersectionPoint = rayOrigin + rayVector * t;\n",
    "#         return true;\n",
    "#     }\n",
    "#     else // This means that there is a line intersection but not a ray intersection.\n",
    "#         return false;\n",
    "# }"
   ]
  },
  {
   "cell_type": "code",
   "execution_count": 3,
   "metadata": {},
   "outputs": [],
   "source": [
    "def ray_intersection(ray, faces):\n",
    "    \"\"\"\n",
    "    rayOrigin is (0,0,0)\n",
    "    ray: shape (3)\n",
    "    faces: shape (len, 3, 3)\n",
    "    \"\"\"\n",
    "    EPS = 1e-8\n",
    "    edge1 = faces[:, 1] - faces[:, 0]\n",
    "    edge2 = faces[:, 2] - faces[:, 0]\n",
    "    h = np.cross(ray, edge2)\n",
    "    a = np.dot(edge1, h)\n",
    "    is_intersection = np.logical_or(a < -EPS, a > EPS)\n",
    "    \n",
    "    f = 1.0/a\n",
    "    s = - faces[:, 0]\n",
    "    u = f * np.dog(s, h)\n",
    "    is_intersection = np.logical_and(is_intersection, np.logical_and(u > 0., u < 1.))\n",
    "    \n",
    "    q = np.cross(s, edge1)\n",
    "    v = f * np.dot(ray, q)\n",
    "    is_intersection = np.logical_and(is_intersection, np.logical_and(v > 0., v < 1.))\n",
    "\n",
    "    t = f * np.dot(edge2, q)\n",
    "    is_intersection = np.logical_and(is_intersection, t > EPS)\n",
    "    \n",
    "    results = ray * t[is_intersection]\n",
    "    return results[np.argmin(results[:, 3])]"
   ]
  },
  {
   "cell_type": "code",
   "execution_count": null,
   "metadata": {},
   "outputs": [],
   "source": []
  }
 ],
 "metadata": {
  "kernelspec": {
   "display_name": "Python 3",
   "language": "python",
   "name": "python3"
  },
  "language_info": {
   "codemirror_mode": {
    "name": "ipython",
    "version": 3
   },
   "file_extension": ".py",
   "mimetype": "text/x-python",
   "name": "python",
   "nbconvert_exporter": "python",
   "pygments_lexer": "ipython3",
   "version": "3.7.3"
  }
 },
 "nbformat": 4,
 "nbformat_minor": 2
}
